{
  "nbformat": 4,
  "nbformat_minor": 0,
  "metadata": {
    "colab": {
      "provenance": [],
      "collapsed_sections": [],
      "background_execution": "on",
      "toc_visible": true,
      "include_colab_link": true
    },
    "kernelspec": {
      "name": "python3",
      "display_name": "Python 3"
    },
    "language_info": {
      "name": "python"
    },
    "gpuClass": "standard",
    "accelerator": "GPU"
  },
  "cells": [
    {
      "cell_type": "markdown",
      "metadata": {
        "id": "view-in-github",
        "colab_type": "text"
      },
      "source": [
        "<a href=\"https://colab.research.google.com/github/chenyq121/760-2022S2/blob/main/optunaBaselineCNNTest.ipynb\" target=\"_parent\"><img src=\"https://colab.research.google.com/assets/colab-badge.svg\" alt=\"Open In Colab\"/></a>"
      ]
    },
    {
      "cell_type": "code",
      "source": [
        " pip install optuna"
      ],
      "metadata": {
        "colab": {
          "base_uri": "https://localhost:8080/"
        },
        "id": "0SoPqtE9ARvt",
        "outputId": "effbbd8e-ffae-4854-b865-994f52825716"
      },
      "execution_count": null,
      "outputs": [
        {
          "output_type": "stream",
          "name": "stdout",
          "text": [
            "Looking in indexes: https://pypi.org/simple, https://us-python.pkg.dev/colab-wheels/public/simple/\n",
            "Collecting optuna\n",
            "  Downloading optuna-3.0.2-py3-none-any.whl (348 kB)\n",
            "\u001b[K     |████████████████████████████████| 348 kB 25.5 MB/s \n",
            "\u001b[?25hRequirement already satisfied: scipy<1.9.0,>=1.7.0 in /usr/local/lib/python3.7/dist-packages (from optuna) (1.7.3)\n",
            "Requirement already satisfied: tqdm in /usr/local/lib/python3.7/dist-packages (from optuna) (4.64.1)\n",
            "Requirement already satisfied: PyYAML in /usr/local/lib/python3.7/dist-packages (from optuna) (6.0)\n",
            "Collecting colorlog\n",
            "  Downloading colorlog-6.7.0-py2.py3-none-any.whl (11 kB)\n",
            "Collecting alembic>=1.5.0\n",
            "  Downloading alembic-1.8.1-py3-none-any.whl (209 kB)\n",
            "\u001b[K     |████████████████████████████████| 209 kB 76.2 MB/s \n",
            "\u001b[?25hRequirement already satisfied: packaging>=20.0 in /usr/local/lib/python3.7/dist-packages (from optuna) (21.3)\n",
            "Collecting cmaes>=0.8.2\n",
            "  Downloading cmaes-0.8.2-py3-none-any.whl (15 kB)\n",
            "Requirement already satisfied: sqlalchemy>=1.3.0 in /usr/local/lib/python3.7/dist-packages (from optuna) (1.4.41)\n",
            "Requirement already satisfied: numpy in /usr/local/lib/python3.7/dist-packages (from optuna) (1.21.6)\n",
            "Collecting cliff\n",
            "  Downloading cliff-3.10.1-py3-none-any.whl (81 kB)\n",
            "\u001b[K     |████████████████████████████████| 81 kB 9.4 MB/s \n",
            "\u001b[?25hRequirement already satisfied: importlib-resources in /usr/local/lib/python3.7/dist-packages (from alembic>=1.5.0->optuna) (5.9.0)\n",
            "Collecting Mako\n",
            "  Downloading Mako-1.2.3-py3-none-any.whl (78 kB)\n",
            "\u001b[K     |████████████████████████████████| 78 kB 8.6 MB/s \n",
            "\u001b[?25hRequirement already satisfied: importlib-metadata in /usr/local/lib/python3.7/dist-packages (from alembic>=1.5.0->optuna) (4.12.0)\n",
            "Requirement already satisfied: pyparsing!=3.0.5,>=2.0.2 in /usr/local/lib/python3.7/dist-packages (from packaging>=20.0->optuna) (3.0.9)\n",
            "Requirement already satisfied: greenlet!=0.4.17 in /usr/local/lib/python3.7/dist-packages (from sqlalchemy>=1.3.0->optuna) (1.1.3)\n",
            "Collecting cmd2>=1.0.0\n",
            "  Downloading cmd2-2.4.2-py3-none-any.whl (147 kB)\n",
            "\u001b[K     |████████████████████████████████| 147 kB 76.2 MB/s \n",
            "\u001b[?25hRequirement already satisfied: PrettyTable>=0.7.2 in /usr/local/lib/python3.7/dist-packages (from cliff->optuna) (3.4.1)\n",
            "Collecting pbr!=2.1.0,>=2.0.0\n",
            "  Downloading pbr-5.10.0-py2.py3-none-any.whl (112 kB)\n",
            "\u001b[K     |████████████████████████████████| 112 kB 69.7 MB/s \n",
            "\u001b[?25hCollecting stevedore>=2.0.1\n",
            "  Downloading stevedore-3.5.0-py3-none-any.whl (49 kB)\n",
            "\u001b[K     |████████████████████████████████| 49 kB 7.6 MB/s \n",
            "\u001b[?25hCollecting autopage>=0.4.0\n",
            "  Downloading autopage-0.5.1-py3-none-any.whl (29 kB)\n",
            "Requirement already satisfied: wcwidth>=0.1.7 in /usr/local/lib/python3.7/dist-packages (from cmd2>=1.0.0->cliff->optuna) (0.2.5)\n",
            "Requirement already satisfied: typing-extensions in /usr/local/lib/python3.7/dist-packages (from cmd2>=1.0.0->cliff->optuna) (4.1.1)\n",
            "Collecting pyperclip>=1.6\n",
            "  Downloading pyperclip-1.8.2.tar.gz (20 kB)\n",
            "Requirement already satisfied: attrs>=16.3.0 in /usr/local/lib/python3.7/dist-packages (from cmd2>=1.0.0->cliff->optuna) (22.1.0)\n",
            "Requirement already satisfied: zipp>=0.5 in /usr/local/lib/python3.7/dist-packages (from importlib-metadata->alembic>=1.5.0->optuna) (3.8.1)\n",
            "Requirement already satisfied: MarkupSafe>=0.9.2 in /usr/local/lib/python3.7/dist-packages (from Mako->alembic>=1.5.0->optuna) (2.0.1)\n",
            "Building wheels for collected packages: pyperclip\n",
            "  Building wheel for pyperclip (setup.py) ... \u001b[?25l\u001b[?25hdone\n",
            "  Created wheel for pyperclip: filename=pyperclip-1.8.2-py3-none-any.whl size=11137 sha256=56d8d42c1d0b59f045c9eef19466ed11fcd95c9b0afff91db840625e70eef8f4\n",
            "  Stored in directory: /root/.cache/pip/wheels/9f/18/84/8f69f8b08169c7bae2dde6bd7daf0c19fca8c8e500ee620a28\n",
            "Successfully built pyperclip\n",
            "Installing collected packages: pyperclip, pbr, stevedore, Mako, cmd2, autopage, colorlog, cmaes, cliff, alembic, optuna\n",
            "Successfully installed Mako-1.2.3 alembic-1.8.1 autopage-0.5.1 cliff-3.10.1 cmaes-0.8.2 cmd2-2.4.2 colorlog-6.7.0 optuna-3.0.2 pbr-5.10.0 pyperclip-1.8.2 stevedore-3.5.0\n"
          ]
        }
      ]
    },
    {
      "cell_type": "code",
      "source": [
        "#mounted to google drive\n",
        "from google.colab import drive\n",
        "drive.mount('/content/drive')"
      ],
      "metadata": {
        "colab": {
          "base_uri": "https://localhost:8080/"
        },
        "id": "tmXCLHW-h4SH",
        "outputId": "9f4bbd54-e631-4363-c94d-b2cb93dd0b61"
      },
      "execution_count": null,
      "outputs": [
        {
          "output_type": "stream",
          "name": "stdout",
          "text": [
            "Mounted at /content/drive\n"
          ]
        }
      ]
    },
    {
      "cell_type": "code",
      "source": [
        "import os\n",
        "\n",
        "os.chdir('/content/drive/Shareddrives/760/Data/')\n",
        "os.getcwd()\n",
        "os.listdir('.')"
      ],
      "metadata": {
        "colab": {
          "base_uri": "https://localhost:8080/"
        },
        "id": "DOERWyx99LnQ",
        "outputId": "2f3c7a94-2dd9-4884-8826-a46de876adf1"
      },
      "execution_count": null,
      "outputs": [
        {
          "output_type": "execute_result",
          "data": {
            "text/plain": [
              "['image_Bored_Ape.zip',\n",
              " 'Last_Sale_Price.csv',\n",
              " 'price_cleaned.csv',\n",
              " 'Bored_Ape_Dataset_Analysis.html',\n",
              " 'ape',\n",
              " '1',\n",
              " '2',\n",
              " 'temphold',\n",
              " 'ape copy',\n",
              " 'all_properties.csv',\n",
              " 'test.txt',\n",
              " 'validate.txt',\n",
              " 'train.txt',\n",
              " 'all_properties.gsheet',\n",
              " 'price_cleaned_under200.csv',\n",
              " 'u1.txt',\n",
              " 'u2.txt',\n",
              " 'test',\n",
              " 'train',\n",
              " 'u1',\n",
              " 'u2',\n",
              " 'utrain.txt',\n",
              " 'uvalidate.txt',\n",
              " 'utest.txt',\n",
              " 'Trantimes.csv',\n",
              " 'Tranaction.csv',\n",
              " 'TransactionData.html',\n",
              " 'price_cleaned_under200_log_label.numbers',\n",
              " 'log-bin.gsheet',\n",
              " 'log-bin.xlsx',\n",
              " 'pricewlabel.csv',\n",
              " 'cs760-model result track.xlsx',\n",
              " 'ID-price-label.xlsx',\n",
              " 'grey',\n",
              " 'to_archive_760project data pre-process.ipynb']"
            ]
          },
          "metadata": {},
          "execution_count": 7
        }
      ]
    },
    {
      "cell_type": "code",
      "execution_count": null,
      "metadata": {
        "id": "X_jla9cIVPq8"
      },
      "outputs": [],
      "source": [
        "import torch\n",
        "import numpy as np\n",
        "import pandas as pd\n",
        "import torch.nn as nn\n",
        "import torchvision\n",
        "import os\n",
        "import torch.utils.data\n",
        "import matplotlib.pyplot as plt\n",
        "from PIL import Image\n",
        "\n",
        "import optuna\n",
        "\n",
        "# data processing \n",
        "class ClassifyDataset(torch.utils.data.Dataset):\n",
        "    def __init__(self,root_path,data_file,img_size=120):\n",
        "        self.data_files=np.loadtxt(data_file,dtype=np.str)\n",
        "        self.root_path=root_path\n",
        "        self.class_list=os.listdir(\n",
        "            os.path.join(root_path,'')\n",
        "        )\n",
        "        self.transforms=torchvision.transforms.Compose(\n",
        "            [\n",
        "                torchvision.transforms.Resize((img_size,img_size)), \n",
        "                torchvision.transforms.ToTensor()\n",
        "            ]\n",
        "        )\n",
        "\n",
        "    def __getitem__(self, item):\n",
        "        data_file=self.data_files[item]\n",
        "        data_file=os.path.join(self.root_path,data_file)\n",
        "        # get the image\n",
        "        img=Image.open(data_file).convert('RGB') # three channels\n",
        "        # get the label(in this case the label is the folder name)\n",
        "        tmp=data_file.split('/')\n",
        "        label_name=tmp[-2]\n",
        "        #print(\"label_name:\",label_name)\n",
        "        label=self.class_list.index(label_name)\n",
        "        #print(\"label:\",label)\n",
        "        # prepare the images and label\n",
        "        img=self.transforms(img)\n",
        "        label=torch.tensor(label)\n",
        "        #print(\"torch_label:\",label)\n",
        "        return img,label\n",
        "\n",
        "    def __len__(self):\n",
        "        return len(self.data_files)\n",
        "\n",
        "\n",
        "\n",
        "# model building\n",
        "class CNet(nn.Module):\n",
        "    def __init__(self,num_classes=21, n_layer = 1, kernel_size = 1):\n",
        "        super(CNet,self).__init__()\n",
        "        self.convList = nn.ModuleList()\n",
        "\n",
        "        for i in range(1, n_layer):\n",
        "          input = 2 ** (i + 3)\n",
        "          output = 2 ** (i + 4)\n",
        "          if i == 1:\n",
        "            input = 3\n",
        "            \n",
        "          self.convList.append(\n",
        "              nn.Sequential(\n",
        "                #input, output, kernel size, step, padding\n",
        "                nn.Conv2d(input, output, kernel_size, 1, padding=1),\n",
        "                nn.BatchNorm2d(output), # batch normalization\n",
        "                nn.ReLU()\n",
        "              )\n",
        "          )\n",
        "\n",
        "        self.pool = nn.AvgPool2d(2, 2)\n",
        "        self.fclayer=nn.Sequential(\n",
        "                nn.Linear(2 * input, 2 * output),\n",
        "                nn.ReLU(),\n",
        "                nn.Linear(2 * output, num_classes)\n",
        "        )\n",
        "        self.avg_pool=nn.AdaptiveAvgPool2d((1, 1))\n",
        "        self.softmax=nn.Softmax(dim=1)\n",
        "\n",
        "    def forward(self,x):\n",
        "      x = self.convList[0](x)\n",
        "      x = self.pool(x)\n",
        "      for conv in self.convList[1:]:\n",
        "        x = conv(x)\n",
        "        x = self.pool(x)\n",
        "      x = self.avg_pool(x)\n",
        "      x = torch.flatten(x,1)\n",
        "      logits=self.fclayer(x)\n",
        "      prob=self.softmax(logits)\n",
        "      return logits,prob\n",
        "\n",
        "    \n",
        "\n",
        "\n",
        "# training\n",
        "def training(model,root_path,train_data_file,batch_size,lr, epoch_num):\n",
        "    # get training data\n",
        "    train_dataset=ClassifyDataset(root_path,train_data_file)\n",
        "    train_dataloader=torch.utils.data.DataLoader(train_dataset,batch_size,shuffle=True,num_workers=0)\n",
        "\n",
        "\n",
        "    # loss function and optimizer\n",
        "    criterion=nn.CrossEntropyLoss()\n",
        "    optimizer=torch.optim.Adam(model.parameters(),lr=lr)\n",
        "\n",
        "    total_loss=[]\n",
        "\n",
        "    for epoch in range(epoch_num):\n",
        "        # print(epoch+1,\"epoch:\")\n",
        "        total_train_loss=0\n",
        "        res_num=len(train_dataset)\n",
        "        for data in train_dataloader:\n",
        "\n",
        "            if (res_num - batch_size) > 0:\n",
        "                cnt=batch_size\n",
        "                res_num = res_num - batch_size\n",
        "            else:\n",
        "                cnt=res_num\n",
        "                res_num = 0\n",
        "\n",
        "            ## GPU\n",
        "            train_img,train_label=data\n",
        "            train_img=train_img.to(device)\n",
        "            train_label=train_label.to(device)\n",
        "\n",
        "            ## get loss result\n",
        "            train_logits,train_prob=model(train_img)\n",
        "            train_loss=criterion.forward(train_logits,train_label)\n",
        "\n",
        "            optimizer.zero_grad()\n",
        "            train_loss.backward()\n",
        "            optimizer.step()\n",
        "            \n",
        "            train_pred=torch.argmax(train_prob,dim=1)\n",
        "            train_acc=(train_pred==train_label).float()\n",
        "            train_acc=torch.mean(train_acc)\n",
        "            # print('loss:',train_loss.item(), 'acc:', train_acc.item())\n",
        "            total_train_loss=total_train_loss+train_loss*cnt\n",
        "\n",
        "        total_train_loss=total_train_loss/len(train_dataset)\n",
        "        total_loss.append(total_train_loss.item())\n",
        "\n",
        "    state_dict=model.state_dict()\n",
        "    torch.save(state_dict,'/content/drive/Shareddrives/760/model/60-20-20model_20_epoch_120_lr0.01-optune_test.pth')\n",
        "\n",
        "    # plt.xlabel('epoch')\n",
        "    # plt.ylabel('loss')\n",
        "    # plt.plot(total_loss)\n",
        "    # plt.legend(['train loss'])\n",
        "    # plt.show()\n",
        "\n",
        "# test\n",
        "def test(model,root_path,test_data_file):\n",
        "    state_dict = torch.load('/content/drive/Shareddrives/760/model/60-20-20model_20_epoch_120_lr0.01-optune_test.pth')\n",
        "    model.load_state_dict(state_dict)\n",
        "    model.eval() # no BatchNormalization and Dropout\n",
        "\n",
        "    test_dataset=ClassifyDataset(root_path,test_data_file)\n",
        "    test_dataloader = torch.utils.data.DataLoader(test_dataset, batch_size, shuffle=True, num_workers=0)\n",
        "\n",
        "    criterion = nn.CrossEntropyLoss()\n",
        "\n",
        "    res_num=len(test_dataset)\n",
        "    total_acc=0\n",
        "\n",
        "    for data in test_dataloader:\n",
        "      with torch.no_grad():\n",
        "\n",
        "        if (res_num-batch_size)>0:\n",
        "            cnt=batch_size\n",
        "            res_num = res_num - batch_size\n",
        "        else:\n",
        "            cnt=res_num\n",
        "            res_num = 0\n",
        "\n",
        "        test_img,test_label=data\n",
        "        test_img=test_img.to(device)\n",
        "        test_label=test_label.to(device)\n",
        "\n",
        "        test_logits,test_prob=model(test_img)\n",
        "        test_loss=criterion.forward(test_logits,test_label)\n",
        "\n",
        "        # Top1 accuracy: correct number/total number\n",
        "        test_pred = torch.argmax(test_prob, dim=1)\n",
        "        # print(test_pred)\n",
        "        # print(test_label)\n",
        "        test_acc = (test_pred == test_label).float()\n",
        "        # print(test_acc)\n",
        "        test_acc = torch.mean(test_acc)\n",
        "        total_acc = total_acc + test_acc * cnt\n",
        "\n",
        "        # print('loss:',test_loss.item(), 'top1:',test_acc.item() )\n",
        "\n",
        "    total_acc=total_acc/len(test_dataset)\n",
        "    return total_acc.item()\n",
        "    # print('\\n')\n",
        "    # print('Top-1 Accuracy:',total_acc.item())\n",
        "\n",
        "\n",
        "def objective(trial):\n",
        "\n",
        "    params = {\n",
        "              'n_layer': trial.suggest_int('n_layer', 3, 5),\n",
        "              'kernel_size': trial.suggest_int('kernel_size', 3, 5, step = 2),\n",
        "              'lr': trial.suggest_categorical('lr', [0.01, 0.05]),#trial.suggest_float('lr', 0.01, 0.1, step = {0.04, 0.05}),\n",
        "              'epoch_num': trial.suggest_int('epoch_num', 5, 10, step = 5)\n",
        "              }\n",
        "\n",
        "    # get model and put model on the device\n",
        "    model=CNet(n_layer = params['n_layer'], kernel_size = params['kernel_size'])\n",
        "    model = model.to(device)\n",
        "\n",
        "    training(model,root_path,train_data_file,batch_size,lr = params['lr'], epoch_num = params['epoch_num'])\n",
        "    # torch.cuda.empty_cache()\n",
        "    return test(model,root_path,test_data_file)\n",
        "\n",
        "\n"
      ]
    },
    {
      "cell_type": "code",
      "source": [
        "# main function\n",
        "if __name__ == '__main__':\n",
        "\n",
        "    root_path = r'/content/drive/Shareddrives/760/Data/'\n",
        "    train_data_file=r'/content/drive/Shareddrives/760/Data/trainopt.txt'\n",
        "    test_data_file=r'/content/drive/Shareddrives/760/Data/testopt.txt'\n",
        "    batch_size=64\n",
        "    device = torch.device(\"cuda:0\")\n",
        "    \n",
        "    study = optuna.create_study(direction=\"maximize\", sampler=optuna.samplers.TPESampler())\n",
        "    study.optimize(objective, n_trials=30)"
      ],
      "metadata": {
        "id": "EZnq7JhEFn7F",
        "colab": {
          "base_uri": "https://localhost:8080/"
        },
        "outputId": "b9bf5d55-c5b9-4677-c035-d131b564fae5"
      },
      "execution_count": null,
      "outputs": [
        {
          "output_type": "stream",
          "name": "stderr",
          "text": [
            "\u001b[32m[I 2022-09-24 04:44:11,681]\u001b[0m A new study created in memory with name: no-name-59596185-92c2-43a2-98db-3555fadc13bf\u001b[0m\n",
            "/usr/local/lib/python3.7/dist-packages/ipykernel_launcher.py:16: DeprecationWarning: `np.str` is a deprecated alias for the builtin `str`. To silence this warning, use `str` by itself. Doing this will not modify any behavior and is safe. If you specifically wanted the numpy scalar type, use `np.str_` here.\n",
            "Deprecated in NumPy 1.20; for more details and guidance: https://numpy.org/devdocs/release/1.20.0-notes.html#deprecations\n",
            "  app.launch_new_instance()\n",
            "\u001b[32m[I 2022-09-24 04:45:17,199]\u001b[0m Trial 0 finished with value: 0.5 and parameters: {'n_layer': 4, 'kernel_size': 3, 'lr': 0.01, 'epoch_num': 10}. Best is trial 0 with value: 0.5.\u001b[0m\n",
            "\u001b[32m[I 2022-09-24 04:45:19,164]\u001b[0m Trial 1 finished with value: 0.75 and parameters: {'n_layer': 4, 'kernel_size': 3, 'lr': 0.01, 'epoch_num': 10}. Best is trial 1 with value: 0.75.\u001b[0m\n",
            "\u001b[32m[I 2022-09-24 04:45:20,970]\u001b[0m Trial 2 finished with value: 0.5 and parameters: {'n_layer': 4, 'kernel_size': 3, 'lr': 0.05, 'epoch_num': 10}. Best is trial 1 with value: 0.75.\u001b[0m\n",
            "\u001b[32m[I 2022-09-24 04:45:21,989]\u001b[0m Trial 3 finished with value: 0.5 and parameters: {'n_layer': 5, 'kernel_size': 3, 'lr': 0.01, 'epoch_num': 5}. Best is trial 1 with value: 0.75.\u001b[0m\n",
            "\u001b[32m[I 2022-09-24 04:45:23,107]\u001b[0m Trial 4 finished with value: 0.5 and parameters: {'n_layer': 4, 'kernel_size': 5, 'lr': 0.05, 'epoch_num': 5}. Best is trial 1 with value: 0.75.\u001b[0m\n",
            "\u001b[32m[I 2022-09-24 04:45:24,870]\u001b[0m Trial 5 finished with value: 0.5 and parameters: {'n_layer': 3, 'kernel_size': 5, 'lr': 0.05, 'epoch_num': 10}. Best is trial 1 with value: 0.75.\u001b[0m\n",
            "\u001b[32m[I 2022-09-24 04:45:26,937]\u001b[0m Trial 6 finished with value: 0.5 and parameters: {'n_layer': 5, 'kernel_size': 3, 'lr': 0.05, 'epoch_num': 10}. Best is trial 1 with value: 0.75.\u001b[0m\n",
            "\u001b[32m[I 2022-09-24 04:45:28,030]\u001b[0m Trial 7 finished with value: 0.5 and parameters: {'n_layer': 3, 'kernel_size': 3, 'lr': 0.05, 'epoch_num': 5}. Best is trial 1 with value: 0.75.\u001b[0m\n",
            "\u001b[32m[I 2022-09-24 04:45:29,870]\u001b[0m Trial 8 finished with value: 0.5 and parameters: {'n_layer': 4, 'kernel_size': 5, 'lr': 0.05, 'epoch_num': 10}. Best is trial 1 with value: 0.75.\u001b[0m\n",
            "\u001b[32m[I 2022-09-24 04:45:30,785]\u001b[0m Trial 9 finished with value: 0.5 and parameters: {'n_layer': 3, 'kernel_size': 5, 'lr': 0.05, 'epoch_num': 5}. Best is trial 1 with value: 0.75.\u001b[0m\n",
            "/usr/local/lib/python3.7/dist-packages/ipykernel_launcher.py:16: DeprecationWarning: `np.str` is a deprecated alias for the builtin `str`. To silence this warning, use `str` by itself. Doing this will not modify any behavior and is safe. If you specifically wanted the numpy scalar type, use `np.str_` here.\n",
            "Deprecated in NumPy 1.20; for more details and guidance: https://numpy.org/devdocs/release/1.20.0-notes.html#deprecations\n",
            "  app.launch_new_instance()\n",
            "\u001b[32m[I 2022-09-24 04:45:33,272]\u001b[0m Trial 10 finished with value: 0.75 and parameters: {'n_layer': 5, 'kernel_size': 3, 'lr': 0.01, 'epoch_num': 10}. Best is trial 1 with value: 0.75.\u001b[0m\n",
            "\u001b[32m[I 2022-09-24 04:45:35,132]\u001b[0m Trial 11 finished with value: 0.5 and parameters: {'n_layer': 5, 'kernel_size': 3, 'lr': 0.01, 'epoch_num': 10}. Best is trial 1 with value: 0.75.\u001b[0m\n",
            "\u001b[32m[I 2022-09-24 04:45:37,346]\u001b[0m Trial 12 finished with value: 0.5 and parameters: {'n_layer': 5, 'kernel_size': 3, 'lr': 0.01, 'epoch_num': 10}. Best is trial 1 with value: 0.75.\u001b[0m\n",
            "\u001b[32m[I 2022-09-24 04:45:39,206]\u001b[0m Trial 13 finished with value: 0.5 and parameters: {'n_layer': 4, 'kernel_size': 3, 'lr': 0.01, 'epoch_num': 10}. Best is trial 1 with value: 0.75.\u001b[0m\n",
            "\u001b[32m[I 2022-09-24 04:45:41,308]\u001b[0m Trial 14 finished with value: 0.75 and parameters: {'n_layer': 5, 'kernel_size': 3, 'lr': 0.01, 'epoch_num': 10}. Best is trial 1 with value: 0.75.\u001b[0m\n",
            "\u001b[32m[I 2022-09-24 04:45:43,130]\u001b[0m Trial 15 finished with value: 0.75 and parameters: {'n_layer': 4, 'kernel_size': 3, 'lr': 0.01, 'epoch_num': 10}. Best is trial 1 with value: 0.75.\u001b[0m\n",
            "\u001b[32m[I 2022-09-24 04:45:45,229]\u001b[0m Trial 16 finished with value: 0.5 and parameters: {'n_layer': 5, 'kernel_size': 3, 'lr': 0.01, 'epoch_num': 10}. Best is trial 1 with value: 0.75.\u001b[0m\n",
            "\u001b[32m[I 2022-09-24 04:45:46,192]\u001b[0m Trial 17 finished with value: 0.5 and parameters: {'n_layer': 3, 'kernel_size': 5, 'lr': 0.01, 'epoch_num': 5}. Best is trial 1 with value: 0.75.\u001b[0m\n",
            "\u001b[32m[I 2022-09-24 04:45:47,990]\u001b[0m Trial 18 finished with value: 0.75 and parameters: {'n_layer': 4, 'kernel_size': 3, 'lr': 0.01, 'epoch_num': 10}. Best is trial 1 with value: 0.75.\u001b[0m\n",
            "\u001b[32m[I 2022-09-24 04:45:50,037]\u001b[0m Trial 19 finished with value: 0.75 and parameters: {'n_layer': 4, 'kernel_size': 3, 'lr': 0.01, 'epoch_num': 10}. Best is trial 1 with value: 0.75.\u001b[0m\n",
            "\u001b[32m[I 2022-09-24 04:45:51,008]\u001b[0m Trial 20 finished with value: 0.5 and parameters: {'n_layer': 4, 'kernel_size': 5, 'lr': 0.01, 'epoch_num': 5}. Best is trial 1 with value: 0.75.\u001b[0m\n",
            "\u001b[32m[I 2022-09-24 04:45:52,826]\u001b[0m Trial 21 finished with value: 0.75 and parameters: {'n_layer': 4, 'kernel_size': 3, 'lr': 0.01, 'epoch_num': 10}. Best is trial 1 with value: 0.75.\u001b[0m\n",
            "\u001b[32m[I 2022-09-24 04:45:55,032]\u001b[0m Trial 22 finished with value: 0.75 and parameters: {'n_layer': 5, 'kernel_size': 3, 'lr': 0.01, 'epoch_num': 10}. Best is trial 1 with value: 0.75.\u001b[0m\n",
            "\u001b[32m[I 2022-09-24 04:45:56,834]\u001b[0m Trial 23 finished with value: 0.5 and parameters: {'n_layer': 4, 'kernel_size': 3, 'lr': 0.01, 'epoch_num': 10}. Best is trial 1 with value: 0.75.\u001b[0m\n",
            "\u001b[32m[I 2022-09-24 04:45:58,660]\u001b[0m Trial 24 finished with value: 0.75 and parameters: {'n_layer': 4, 'kernel_size': 3, 'lr': 0.01, 'epoch_num': 10}. Best is trial 1 with value: 0.75.\u001b[0m\n",
            "\u001b[32m[I 2022-09-24 04:46:00,434]\u001b[0m Trial 25 finished with value: 0.75 and parameters: {'n_layer': 3, 'kernel_size': 3, 'lr': 0.01, 'epoch_num': 10}. Best is trial 1 with value: 0.75.\u001b[0m\n",
            "\u001b[32m[I 2022-09-24 04:46:02,179]\u001b[0m Trial 26 finished with value: 0.75 and parameters: {'n_layer': 3, 'kernel_size': 3, 'lr': 0.01, 'epoch_num': 10}. Best is trial 1 with value: 0.75.\u001b[0m\n",
            "\u001b[32m[I 2022-09-24 04:46:03,941]\u001b[0m Trial 27 finished with value: 0.75 and parameters: {'n_layer': 3, 'kernel_size': 3, 'lr': 0.01, 'epoch_num': 10}. Best is trial 1 with value: 0.75.\u001b[0m\n",
            "\u001b[32m[I 2022-09-24 04:46:05,683]\u001b[0m Trial 28 finished with value: 0.5 and parameters: {'n_layer': 3, 'kernel_size': 3, 'lr': 0.01, 'epoch_num': 10}. Best is trial 1 with value: 0.75.\u001b[0m\n",
            "\u001b[32m[I 2022-09-24 04:46:07,555]\u001b[0m Trial 29 finished with value: 0.5 and parameters: {'n_layer': 5, 'kernel_size': 3, 'lr': 0.01, 'epoch_num': 10}. Best is trial 1 with value: 0.75.\u001b[0m\n"
          ]
        }
      ]
    },
    {
      "cell_type": "code",
      "source": [
        "best_trial = study.best_trial\n",
        "\n",
        "for key, value in best_trial.params.items():\n",
        "    print(\"{}: {}\".format(key, value))"
      ],
      "metadata": {
        "id": "mrfuOXh1T8ws",
        "colab": {
          "base_uri": "https://localhost:8080/"
        },
        "outputId": "73da640d-0e7d-4c97-8277-d5ff7c12a2d5"
      },
      "execution_count": null,
      "outputs": [
        {
          "output_type": "stream",
          "name": "stdout",
          "text": [
            "n_layer: 4\n",
            "kernel_size: 5\n",
            "lr: 0.1\n",
            "epoch_num: 10\n"
          ]
        }
      ]
    },
    {
      "cell_type": "code",
      "source": [
        "optuna.visualization.plot_optimization_history(study)"
      ],
      "metadata": {
        "colab": {
          "base_uri": "https://localhost:8080/",
          "height": 542
        },
        "id": "SGIqptr5Lq0M",
        "outputId": "41dd42cc-6ed6-497c-f4f9-04d48195ac31"
      },
      "execution_count": null,
      "outputs": [
        {
          "output_type": "display_data",
          "data": {
            "text/html": [
              "<html>\n",
              "<head><meta charset=\"utf-8\" /></head>\n",
              "<body>\n",
              "    <div>            <script src=\"https://cdnjs.cloudflare.com/ajax/libs/mathjax/2.7.5/MathJax.js?config=TeX-AMS-MML_SVG\"></script><script type=\"text/javascript\">if (window.MathJax) {MathJax.Hub.Config({SVG: {font: \"STIX-Web\"}});}</script>                <script type=\"text/javascript\">window.PlotlyConfig = {MathJaxConfig: 'local'};</script>\n",
              "        <script src=\"https://cdn.plot.ly/plotly-2.8.3.min.js\"></script>                <div id=\"d2a94858-2a55-4dfe-9bd6-0b8ae9ff731a\" class=\"plotly-graph-div\" style=\"height:525px; width:100%;\"></div>            <script type=\"text/javascript\">                                    window.PLOTLYENV=window.PLOTLYENV || {};                                    if (document.getElementById(\"d2a94858-2a55-4dfe-9bd6-0b8ae9ff731a\")) {                    Plotly.newPlot(                        \"d2a94858-2a55-4dfe-9bd6-0b8ae9ff731a\",                        [{\"mode\":\"markers\",\"name\":\"Objective Value\",\"x\":[0,1,2,3,4,5,6,7,8,9,10,11,12,13,14,15,16,17,18,19,20,21,22,23,24,25,26,27,28,29],\"y\":[0.5,0.5,0.5,0.5,0.75,0.5,0.5,0.5,0.5,0.25,0.5,0.5,0.5,0.5,0.5,0.5,0.25,0.5,0.5,0.5,0.5,0.5,0.5,0.5,0.5,0.5,0.5,0.5,0.5,0.5],\"type\":\"scatter\"},{\"name\":\"Best Value\",\"x\":[0,1,2,3,4,5,6,7,8,9,10,11,12,13,14,15,16,17,18,19,20,21,22,23,24,25,26,27,28,29],\"y\":[0.5,0.5,0.5,0.5,0.75,0.75,0.75,0.75,0.75,0.75,0.75,0.75,0.75,0.75,0.75,0.75,0.75,0.75,0.75,0.75,0.75,0.75,0.75,0.75,0.75,0.75,0.75,0.75,0.75,0.75],\"type\":\"scatter\"}],                        {\"title\":{\"text\":\"Optimization History Plot\"},\"xaxis\":{\"title\":{\"text\":\"Trial\"}},\"yaxis\":{\"title\":{\"text\":\"Objective Value\"}},\"template\":{\"data\":{\"bar\":[{\"error_x\":{\"color\":\"#2a3f5f\"},\"error_y\":{\"color\":\"#2a3f5f\"},\"marker\":{\"line\":{\"color\":\"#E5ECF6\",\"width\":0.5},\"pattern\":{\"fillmode\":\"overlay\",\"size\":10,\"solidity\":0.2}},\"type\":\"bar\"}],\"barpolar\":[{\"marker\":{\"line\":{\"color\":\"#E5ECF6\",\"width\":0.5},\"pattern\":{\"fillmode\":\"overlay\",\"size\":10,\"solidity\":0.2}},\"type\":\"barpolar\"}],\"carpet\":[{\"aaxis\":{\"endlinecolor\":\"#2a3f5f\",\"gridcolor\":\"white\",\"linecolor\":\"white\",\"minorgridcolor\":\"white\",\"startlinecolor\":\"#2a3f5f\"},\"baxis\":{\"endlinecolor\":\"#2a3f5f\",\"gridcolor\":\"white\",\"linecolor\":\"white\",\"minorgridcolor\":\"white\",\"startlinecolor\":\"#2a3f5f\"},\"type\":\"carpet\"}],\"choropleth\":[{\"colorbar\":{\"outlinewidth\":0,\"ticks\":\"\"},\"type\":\"choropleth\"}],\"contour\":[{\"colorbar\":{\"outlinewidth\":0,\"ticks\":\"\"},\"colorscale\":[[0.0,\"#0d0887\"],[0.1111111111111111,\"#46039f\"],[0.2222222222222222,\"#7201a8\"],[0.3333333333333333,\"#9c179e\"],[0.4444444444444444,\"#bd3786\"],[0.5555555555555556,\"#d8576b\"],[0.6666666666666666,\"#ed7953\"],[0.7777777777777778,\"#fb9f3a\"],[0.8888888888888888,\"#fdca26\"],[1.0,\"#f0f921\"]],\"type\":\"contour\"}],\"contourcarpet\":[{\"colorbar\":{\"outlinewidth\":0,\"ticks\":\"\"},\"type\":\"contourcarpet\"}],\"heatmap\":[{\"colorbar\":{\"outlinewidth\":0,\"ticks\":\"\"},\"colorscale\":[[0.0,\"#0d0887\"],[0.1111111111111111,\"#46039f\"],[0.2222222222222222,\"#7201a8\"],[0.3333333333333333,\"#9c179e\"],[0.4444444444444444,\"#bd3786\"],[0.5555555555555556,\"#d8576b\"],[0.6666666666666666,\"#ed7953\"],[0.7777777777777778,\"#fb9f3a\"],[0.8888888888888888,\"#fdca26\"],[1.0,\"#f0f921\"]],\"type\":\"heatmap\"}],\"heatmapgl\":[{\"colorbar\":{\"outlinewidth\":0,\"ticks\":\"\"},\"colorscale\":[[0.0,\"#0d0887\"],[0.1111111111111111,\"#46039f\"],[0.2222222222222222,\"#7201a8\"],[0.3333333333333333,\"#9c179e\"],[0.4444444444444444,\"#bd3786\"],[0.5555555555555556,\"#d8576b\"],[0.6666666666666666,\"#ed7953\"],[0.7777777777777778,\"#fb9f3a\"],[0.8888888888888888,\"#fdca26\"],[1.0,\"#f0f921\"]],\"type\":\"heatmapgl\"}],\"histogram\":[{\"marker\":{\"pattern\":{\"fillmode\":\"overlay\",\"size\":10,\"solidity\":0.2}},\"type\":\"histogram\"}],\"histogram2d\":[{\"colorbar\":{\"outlinewidth\":0,\"ticks\":\"\"},\"colorscale\":[[0.0,\"#0d0887\"],[0.1111111111111111,\"#46039f\"],[0.2222222222222222,\"#7201a8\"],[0.3333333333333333,\"#9c179e\"],[0.4444444444444444,\"#bd3786\"],[0.5555555555555556,\"#d8576b\"],[0.6666666666666666,\"#ed7953\"],[0.7777777777777778,\"#fb9f3a\"],[0.8888888888888888,\"#fdca26\"],[1.0,\"#f0f921\"]],\"type\":\"histogram2d\"}],\"histogram2dcontour\":[{\"colorbar\":{\"outlinewidth\":0,\"ticks\":\"\"},\"colorscale\":[[0.0,\"#0d0887\"],[0.1111111111111111,\"#46039f\"],[0.2222222222222222,\"#7201a8\"],[0.3333333333333333,\"#9c179e\"],[0.4444444444444444,\"#bd3786\"],[0.5555555555555556,\"#d8576b\"],[0.6666666666666666,\"#ed7953\"],[0.7777777777777778,\"#fb9f3a\"],[0.8888888888888888,\"#fdca26\"],[1.0,\"#f0f921\"]],\"type\":\"histogram2dcontour\"}],\"mesh3d\":[{\"colorbar\":{\"outlinewidth\":0,\"ticks\":\"\"},\"type\":\"mesh3d\"}],\"parcoords\":[{\"line\":{\"colorbar\":{\"outlinewidth\":0,\"ticks\":\"\"}},\"type\":\"parcoords\"}],\"pie\":[{\"automargin\":true,\"type\":\"pie\"}],\"scatter\":[{\"marker\":{\"colorbar\":{\"outlinewidth\":0,\"ticks\":\"\"}},\"type\":\"scatter\"}],\"scatter3d\":[{\"line\":{\"colorbar\":{\"outlinewidth\":0,\"ticks\":\"\"}},\"marker\":{\"colorbar\":{\"outlinewidth\":0,\"ticks\":\"\"}},\"type\":\"scatter3d\"}],\"scattercarpet\":[{\"marker\":{\"colorbar\":{\"outlinewidth\":0,\"ticks\":\"\"}},\"type\":\"scattercarpet\"}],\"scattergeo\":[{\"marker\":{\"colorbar\":{\"outlinewidth\":0,\"ticks\":\"\"}},\"type\":\"scattergeo\"}],\"scattergl\":[{\"marker\":{\"colorbar\":{\"outlinewidth\":0,\"ticks\":\"\"}},\"type\":\"scattergl\"}],\"scattermapbox\":[{\"marker\":{\"colorbar\":{\"outlinewidth\":0,\"ticks\":\"\"}},\"type\":\"scattermapbox\"}],\"scatterpolar\":[{\"marker\":{\"colorbar\":{\"outlinewidth\":0,\"ticks\":\"\"}},\"type\":\"scatterpolar\"}],\"scatterpolargl\":[{\"marker\":{\"colorbar\":{\"outlinewidth\":0,\"ticks\":\"\"}},\"type\":\"scatterpolargl\"}],\"scatterternary\":[{\"marker\":{\"colorbar\":{\"outlinewidth\":0,\"ticks\":\"\"}},\"type\":\"scatterternary\"}],\"surface\":[{\"colorbar\":{\"outlinewidth\":0,\"ticks\":\"\"},\"colorscale\":[[0.0,\"#0d0887\"],[0.1111111111111111,\"#46039f\"],[0.2222222222222222,\"#7201a8\"],[0.3333333333333333,\"#9c179e\"],[0.4444444444444444,\"#bd3786\"],[0.5555555555555556,\"#d8576b\"],[0.6666666666666666,\"#ed7953\"],[0.7777777777777778,\"#fb9f3a\"],[0.8888888888888888,\"#fdca26\"],[1.0,\"#f0f921\"]],\"type\":\"surface\"}],\"table\":[{\"cells\":{\"fill\":{\"color\":\"#EBF0F8\"},\"line\":{\"color\":\"white\"}},\"header\":{\"fill\":{\"color\":\"#C8D4E3\"},\"line\":{\"color\":\"white\"}},\"type\":\"table\"}]},\"layout\":{\"annotationdefaults\":{\"arrowcolor\":\"#2a3f5f\",\"arrowhead\":0,\"arrowwidth\":1},\"autotypenumbers\":\"strict\",\"coloraxis\":{\"colorbar\":{\"outlinewidth\":0,\"ticks\":\"\"}},\"colorscale\":{\"diverging\":[[0,\"#8e0152\"],[0.1,\"#c51b7d\"],[0.2,\"#de77ae\"],[0.3,\"#f1b6da\"],[0.4,\"#fde0ef\"],[0.5,\"#f7f7f7\"],[0.6,\"#e6f5d0\"],[0.7,\"#b8e186\"],[0.8,\"#7fbc41\"],[0.9,\"#4d9221\"],[1,\"#276419\"]],\"sequential\":[[0.0,\"#0d0887\"],[0.1111111111111111,\"#46039f\"],[0.2222222222222222,\"#7201a8\"],[0.3333333333333333,\"#9c179e\"],[0.4444444444444444,\"#bd3786\"],[0.5555555555555556,\"#d8576b\"],[0.6666666666666666,\"#ed7953\"],[0.7777777777777778,\"#fb9f3a\"],[0.8888888888888888,\"#fdca26\"],[1.0,\"#f0f921\"]],\"sequentialminus\":[[0.0,\"#0d0887\"],[0.1111111111111111,\"#46039f\"],[0.2222222222222222,\"#7201a8\"],[0.3333333333333333,\"#9c179e\"],[0.4444444444444444,\"#bd3786\"],[0.5555555555555556,\"#d8576b\"],[0.6666666666666666,\"#ed7953\"],[0.7777777777777778,\"#fb9f3a\"],[0.8888888888888888,\"#fdca26\"],[1.0,\"#f0f921\"]]},\"colorway\":[\"#636efa\",\"#EF553B\",\"#00cc96\",\"#ab63fa\",\"#FFA15A\",\"#19d3f3\",\"#FF6692\",\"#B6E880\",\"#FF97FF\",\"#FECB52\"],\"font\":{\"color\":\"#2a3f5f\"},\"geo\":{\"bgcolor\":\"white\",\"lakecolor\":\"white\",\"landcolor\":\"#E5ECF6\",\"showlakes\":true,\"showland\":true,\"subunitcolor\":\"white\"},\"hoverlabel\":{\"align\":\"left\"},\"hovermode\":\"closest\",\"mapbox\":{\"style\":\"light\"},\"paper_bgcolor\":\"white\",\"plot_bgcolor\":\"#E5ECF6\",\"polar\":{\"angularaxis\":{\"gridcolor\":\"white\",\"linecolor\":\"white\",\"ticks\":\"\"},\"bgcolor\":\"#E5ECF6\",\"radialaxis\":{\"gridcolor\":\"white\",\"linecolor\":\"white\",\"ticks\":\"\"}},\"scene\":{\"xaxis\":{\"backgroundcolor\":\"#E5ECF6\",\"gridcolor\":\"white\",\"gridwidth\":2,\"linecolor\":\"white\",\"showbackground\":true,\"ticks\":\"\",\"zerolinecolor\":\"white\"},\"yaxis\":{\"backgroundcolor\":\"#E5ECF6\",\"gridcolor\":\"white\",\"gridwidth\":2,\"linecolor\":\"white\",\"showbackground\":true,\"ticks\":\"\",\"zerolinecolor\":\"white\"},\"zaxis\":{\"backgroundcolor\":\"#E5ECF6\",\"gridcolor\":\"white\",\"gridwidth\":2,\"linecolor\":\"white\",\"showbackground\":true,\"ticks\":\"\",\"zerolinecolor\":\"white\"}},\"shapedefaults\":{\"line\":{\"color\":\"#2a3f5f\"}},\"ternary\":{\"aaxis\":{\"gridcolor\":\"white\",\"linecolor\":\"white\",\"ticks\":\"\"},\"baxis\":{\"gridcolor\":\"white\",\"linecolor\":\"white\",\"ticks\":\"\"},\"bgcolor\":\"#E5ECF6\",\"caxis\":{\"gridcolor\":\"white\",\"linecolor\":\"white\",\"ticks\":\"\"}},\"title\":{\"x\":0.05},\"xaxis\":{\"automargin\":true,\"gridcolor\":\"white\",\"linecolor\":\"white\",\"ticks\":\"\",\"title\":{\"standoff\":15},\"zerolinecolor\":\"white\",\"zerolinewidth\":2},\"yaxis\":{\"automargin\":true,\"gridcolor\":\"white\",\"linecolor\":\"white\",\"ticks\":\"\",\"title\":{\"standoff\":15},\"zerolinecolor\":\"white\",\"zerolinewidth\":2}}}},                        {\"responsive\": true}                    ).then(function(){\n",
              "                            \n",
              "var gd = document.getElementById('d2a94858-2a55-4dfe-9bd6-0b8ae9ff731a');\n",
              "var x = new MutationObserver(function (mutations, observer) {{\n",
              "        var display = window.getComputedStyle(gd).display;\n",
              "        if (!display || display === 'none') {{\n",
              "            console.log([gd, 'removed!']);\n",
              "            Plotly.purge(gd);\n",
              "            observer.disconnect();\n",
              "        }}\n",
              "}});\n",
              "\n",
              "// Listen for the removal of the full notebook cells\n",
              "var notebookContainer = gd.closest('#notebook-container');\n",
              "if (notebookContainer) {{\n",
              "    x.observe(notebookContainer, {childList: true});\n",
              "}}\n",
              "\n",
              "// Listen for the clearing of the current output cell\n",
              "var outputEl = gd.closest('.output');\n",
              "if (outputEl) {{\n",
              "    x.observe(outputEl, {childList: true});\n",
              "}}\n",
              "\n",
              "                        })                };                            </script>        </div>\n",
              "</body>\n",
              "</html>"
            ]
          },
          "metadata": {}
        }
      ]
    },
    {
      "cell_type": "code",
      "source": [
        "import gc\n",
        "torch.cuda.empty_cache()\n",
        "gc.collect()\n"
      ],
      "metadata": {
        "colab": {
          "base_uri": "https://localhost:8080/"
        },
        "id": "827tZvE7OP_N",
        "outputId": "7efae664-122d-4a88-95dc-9ce5d1c3758e"
      },
      "execution_count": null,
      "outputs": [
        {
          "output_type": "execute_result",
          "data": {
            "text/plain": [
              "606"
            ]
          },
          "metadata": {},
          "execution_count": 48
        }
      ]
    },
    {
      "cell_type": "markdown",
      "source": [
        "# New Section"
      ],
      "metadata": {
        "id": "33ISu_hLnHyw"
      }
    }
  ]
}